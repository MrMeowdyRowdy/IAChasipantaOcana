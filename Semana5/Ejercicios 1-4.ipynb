{
 "cells": [
  {
   "cell_type": "markdown",
   "id": "deff5908-1825-48d5-a46b-1d757b1d3c20",
   "metadata": {},
   "source": [
    "# Logica proposicional\n",
    "Pablo Chasipanta, Dennis Ocaña"
   ]
  },
  {
   "cell_type": "code",
   "execution_count": 2,
   "id": "6d50c1e1-5c1c-4124-913e-0e0c186e5c96",
   "metadata": {},
   "outputs": [],
   "source": [
    "import sympy\n",
    "from sympy.logic.boolalg import Equivalent, And, Or"
   ]
  },
  {
   "cell_type": "markdown",
   "id": "5f172cae-761b-474d-904f-a19b39878803",
   "metadata": {},
   "source": [
    "## Ejercicio 1"
   ]
  },
  {
   "cell_type": "code",
   "execution_count": 4,
   "id": "725aca8f-ec91-451a-8c61-5b8d96738dab",
   "metadata": {},
   "outputs": [
    {
     "name": "stdout",
     "output_type": "stream",
     "text": [
      "CNF:  (P | T | ~U) & (T | ~S | ~U)\n"
     ]
    }
   ],
   "source": [
    "#Ejercicio 1a\n",
    "\n",
    "U, T, S, P = sympy.symbols('U T S P')\n",
    "\n",
    "formula = (U >> (~T >> (~S & P)))\n",
    "cnf1 = sympy.to_cnf(formula)\n",
    "print(\"CNF: \", cnf1)"
   ]
  },
  {
   "cell_type": "code",
   "execution_count": 9,
   "id": "61e3ca32-f935-42f0-8e71-fcf6adc838b3",
   "metadata": {},
   "outputs": [
    {
     "name": "stdout",
     "output_type": "stream",
     "text": [
      "CNF:  (B | ~A) & (C | ~A) & (A | ~B | ~C)\n"
     ]
    }
   ],
   "source": [
    "#Ejercicio 1b\n",
    "\n",
    "A, B, C = sympy.symbols('A B C')\n",
    "\n",
    "formula = (Equivalent(A, (B & C)))\n",
    "cnf1 = sympy.to_cnf(formula)\n",
    "print(\"CNF: \", cnf1)"
   ]
  },
  {
   "cell_type": "markdown",
   "id": "96dc9e69-808b-486e-b738-f09b522ead42",
   "metadata": {},
   "source": [
    "## Ejercicio 2"
   ]
  },
  {
   "cell_type": "code",
   "execution_count": 10,
   "id": "2df41186-211b-4ca4-b163-3f009132a385",
   "metadata": {},
   "outputs": [
    {
     "name": "stdout",
     "output_type": "stream",
     "text": [
      "Unsatisfable.\n"
     ]
    }
   ],
   "source": [
    "#Ejercicio 2a\n",
    "\n",
    "P, Q, R, U = sympy.symbols('P Q R U')\n",
    "\n",
    "formula = ((P | Q | ~R) & (P | ~Q) & ~P & R & U)\n",
    "sat = sympy.satisfiable(formula)\n",
    "if sat:\n",
    "    print(\"Satisfable: \", sat)\n",
    "else:\n",
    "    print(\"Unsatisfable.\")"
   ]
  },
  {
   "cell_type": "code",
   "execution_count": 11,
   "id": "c454280d-3c58-4edf-b53f-5ed3352b651a",
   "metadata": {},
   "outputs": [
    {
     "name": "stdout",
     "output_type": "stream",
     "text": [
      "Satisfable:  {P: True, R: False, Q: False}\n"
     ]
    }
   ],
   "source": [
    "#Ejercicio 2B\n",
    "\n",
    "P, Q, R, U = sympy.symbols('P Q R U')\n",
    "\n",
    "formula = ((P | Q) & ~Q & (~P|Q|~R))\n",
    "sat = sympy.satisfiable(formula)\n",
    "if sat:\n",
    "    print(\"Satisfable: \", sat)\n",
    "else:\n",
    "    print(\"Unsatisfable.\")"
   ]
  },
  {
   "cell_type": "code",
   "execution_count": 13,
   "id": "9adfa591-bdde-4376-8c23-9094de7ffef4",
   "metadata": {},
   "outputs": [
    {
     "name": "stdout",
     "output_type": "stream",
     "text": [
      "Satisfable:  {P: True, Q: True, R: False}\n"
     ]
    }
   ],
   "source": [
    "#Ejercicio 2c\n",
    "\n",
    "P, Q, R, U = sympy.symbols('P Q R U')\n",
    "\n",
    "formula = ((P | Q) & (P | ~Q) & (~P | Q) & (~P | ~R))\n",
    "sat = sympy.satisfiable(formula)\n",
    "if sat:\n",
    "    print(\"Satisfable: \", sat)\n",
    "else:\n",
    "    print(\"Unsatisfable.\")"
   ]
  },
  {
   "cell_type": "markdown",
   "id": "8848b0e9-f6fa-43cd-8814-c5e29a0b4e61",
   "metadata": {},
   "source": [
    "## Ejercicio 3"
   ]
  },
  {
   "cell_type": "code",
   "execution_count": 3,
   "id": "cb58f3c9-ae07-4841-a6cc-55f55b2b3931",
   "metadata": {},
   "outputs": [
    {
     "name": "stdout",
     "output_type": "stream",
     "text": [
      "kb |= theorem\n"
     ]
    }
   ],
   "source": [
    "#Ejercicio 3a\n",
    "\n",
    "A, B, Q = sympy.symbols('A B Q')\n",
    "\n",
    "kb = (A & (B | Q))\n",
    "theorem = ((A & B) | (A & Q))\n",
    "if sympy.satisfiable(kb & ~theorem):\n",
    "    print(\"kb NO |= theorem\")\n",
    "else:\n",
    "    print(\"kb |= theorem\")"
   ]
  },
  {
   "cell_type": "code",
   "execution_count": 5,
   "id": "8b6a8870-5e35-436f-b970-98274a5e5927",
   "metadata": {},
   "outputs": [
    {
     "name": "stdout",
     "output_type": "stream",
     "text": [
      "kb |= theorem\n"
     ]
    }
   ],
   "source": [
    "#Ejercicio 3b\n",
    "\n",
    "A, B, Q = sympy.symbols('A B Q')\n",
    "\n",
    "kb = ((A & B) | (A & Q))\n",
    "theorem = (A & (B | Q))\n",
    "if sympy.satisfiable(kb & ~theorem):\n",
    "    print(\"kb NO |= theorem\")\n",
    "else:\n",
    "    print(\"kb |= theorem\")"
   ]
  },
  {
   "cell_type": "markdown",
   "id": "5402dc90-a047-4b65-a6d5-ebff2f025b21",
   "metadata": {},
   "source": [
    "## Ejercicio 4"
   ]
  },
  {
   "cell_type": "code",
   "execution_count": 8,
   "id": "4ba3f7d4-efce-4e15-ab17-989fd17d21eb",
   "metadata": {},
   "outputs": [
    {
     "name": "stdout",
     "output_type": "stream",
     "text": [
      "Satisfable:  {T: True, S: True, Q: True, R: False, P: False}\n"
     ]
    }
   ],
   "source": [
    "#Ejercicio 2a\n",
    "\n",
    "P, Q, R, S, T = sympy.symbols('P Q R S T')\n",
    "\n",
    "formula = ((~P & Q) & (Equivalent(R,P)) & (~R>>S) & (S>>T))\n",
    "sat = sympy.satisfiable(formula)\n",
    "if sat:\n",
    "    print(\"Satisfable: \", sat)\n",
    "else:\n",
    "    print(\"Unsatisfable.\")"
   ]
  },
  {
   "cell_type": "code",
   "execution_count": null,
   "id": "be597f51-9b89-4006-8146-3bf8b7aa61e6",
   "metadata": {},
   "outputs": [],
   "source": []
  }
 ],
 "metadata": {
  "kernelspec": {
   "display_name": "Python 3 (ipykernel)",
   "language": "python",
   "name": "python3"
  },
  "language_info": {
   "codemirror_mode": {
    "name": "ipython",
    "version": 3
   },
   "file_extension": ".py",
   "mimetype": "text/x-python",
   "name": "python",
   "nbconvert_exporter": "python",
   "pygments_lexer": "ipython3",
   "version": "3.9.16"
  }
 },
 "nbformat": 4,
 "nbformat_minor": 5
}
