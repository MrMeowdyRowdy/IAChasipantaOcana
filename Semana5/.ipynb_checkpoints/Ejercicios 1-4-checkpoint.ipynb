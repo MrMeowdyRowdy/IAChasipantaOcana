{
 "cells": [
  {
   "cell_type": "code",
   "execution_count": 8,
   "id": "6d50c1e1-5c1c-4124-913e-0e0c186e5c96",
   "metadata": {},
   "outputs": [],
   "source": [
    "import sympy\n",
    "from sympy.logic.boolalg import Equivalent, And, Or"
   ]
  },
  {
   "cell_type": "code",
   "execution_count": 4,
   "id": "725aca8f-ec91-451a-8c61-5b8d96738dab",
   "metadata": {},
   "outputs": [
    {
     "name": "stdout",
     "output_type": "stream",
     "text": [
      "CNF:  (P | T | ~U) & (T | ~S | ~U)\n"
     ]
    }
   ],
   "source": [
    "U, T, S, P = sympy.symbols('U T S P')\n",
    "\n",
    "formula = (U >> (~T >> (~S & P)))\n",
    "cnf1 = sympy.to_cnf(formula)\n",
    "print(\"CNF: \", cnf1)"
   ]
  },
  {
   "cell_type": "code",
   "execution_count": 9,
   "id": "61e3ca32-f935-42f0-8e71-fcf6adc838b3",
   "metadata": {},
   "outputs": [
    {
     "name": "stdout",
     "output_type": "stream",
     "text": [
      "CNF:  (B | ~A) & (C | ~A) & (A | ~B | ~C)\n"
     ]
    }
   ],
   "source": [
    "A, B, C = sympy.symbols('A B C')\n",
    "\n",
    "formula = (Equivalent(A, (B & C)))\n",
    "cnf1 = sympy.to_cnf(formula)\n",
    "print(\"CNF: \", cnf1)"
   ]
  },
  {
   "cell_type": "code",
   "execution_count": null,
   "id": "b0615c9c-f435-4359-8387-0ae97dd32513",
   "metadata": {},
   "outputs": [],
   "source": []
  }
 ],
 "metadata": {
  "kernelspec": {
   "display_name": "Python 3 (ipykernel)",
   "language": "python",
   "name": "python3"
  },
  "language_info": {
   "codemirror_mode": {
    "name": "ipython",
    "version": 3
   },
   "file_extension": ".py",
   "mimetype": "text/x-python",
   "name": "python",
   "nbconvert_exporter": "python",
   "pygments_lexer": "ipython3",
   "version": "3.9.16"
  }
 },
 "nbformat": 4,
 "nbformat_minor": 5
}
