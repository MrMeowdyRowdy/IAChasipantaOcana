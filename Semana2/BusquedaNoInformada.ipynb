{
 "cells": [
  {
   "cell_type": "markdown",
   "id": "30a43726-266c-4e90-bd87-0da75ced9173",
   "metadata": {},
   "source": [
    "# Búsqueda no Informada\n",
    "Autores:\n",
    "    Pablo Chasipanta,\n",
    "    Dennis Ocaña"
   ]
  },
  {
   "cell_type": "markdown",
   "id": "9e7570ee-651e-4162-8249-dd6ef8bb2e2a",
   "metadata": {},
   "source": [
    "## Psudocódigo"
   ]
  },
  {
   "cell_type": "raw",
   "id": "2cb63fa2-461b-4e87-9d2b-2a2d2bac1e5c",
   "metadata": {},
   "source": [
    "Función posicion_valida(tablero, fila, columna):\n",
    "    Para cada i en rango(fila):\n",
    "        Si tablero[i] es igual a columna o\n",
    "           tablero[i] - i es igual a columna - fila o\n",
    "           tablero[i] + i es igual a columna + fila:\n",
    "            Devolver Falso\n",
    "    Devolver Verdadero\n",
    "\n",
    "Función encontrar_solucion(tablero, fila, fronteras_alcanzadas, movimientos_realizados):\n",
    "    n = longitud(tablero)\n",
    "    Si fila es igual a n:\n",
    "        Devolver tablero, fronteras_alcanzadas, movimientos_realizados\n",
    "    Sino:\n",
    "        Para cada columna en rango(n):\n",
    "            movimientos_realizados += 1\n",
    "            Si posicion_valida(tablero, fila, columna) es Verdadero:\n",
    "                tablero[fila] = columna\n",
    "                fronteras_alcanzadas += 1\n",
    "                solucion_encontrada, fronteras_alcanzadas, movimientos_realizados = encontrar_solucion(tablero, fila + 1, fronteras_alcanzadas, movimientos_realizados)\n",
    "                Si solucion_encontrada no es Nulo:\n",
    "                    Devolver solucion_encontrada, fronteras_alcanzadas, movimientos_realizados\n",
    "        Devolver Nulo, fronteras_alcanzadas, movimientos_realizados\n",
    "\n",
    "Función imprimir_tablero(tablero):\n",
    "    n = longitud(tablero)\n",
    "    Para cada fila en rango(n):\n",
    "        Para cada columna en rango(n):\n",
    "            Si tablero[fila] es igual a columna:\n",
    "                Imprimir \"0\"\n",
    "            Sino:\n",
    "                Imprimir \"_\"\n",
    "        Imprimir nueva línea\n",
    "\n",
    "Función resolver_problema():\n",
    "    tablero = lista de tamaño 8 con todos los elementos inicializados en -1\n",
    "    fronteras_alcanzadas = 0\n",
    "    movimientos_realizados = 0\n",
    "    solucion, fronteras_alcanzadas, movimientos_realizados = encontrar_solucion(tablero, 0, fronteras_alcanzadas, movimientos_realizados)\n",
    "    Si solucion no es Nulo:\n",
    "        Imprimir \"Solución encontrada:\"\n",
    "        imprimir_tablero(solucion)\n",
    "        Imprimir \"Total de fronteras alcanzadas: \" + fronteras_alcanzadas\n",
    "        Imprimir \"Total de movimientos realizados: \" + movimientos_realizados\n",
    "    Sino:\n",
    "        Imprimir \"No se encontró solución.\"\n",
    "\n",
    "resolver_problema()"
   ]
  },
  {
   "cell_type": "markdown",
   "id": "5abd6cd6-7cb0-4df7-96c9-b19dd2b8c81a",
   "metadata": {},
   "source": [
    "## Resolución"
   ]
  },
  {
   "cell_type": "code",
   "execution_count": 2,
   "id": "a390dbc4-fb4b-487b-a5eb-de30c0bd01bc",
   "metadata": {},
   "outputs": [],
   "source": [
    "def posicion_valida(tablero, fila, columna):\n",
    "    # Verificar si una reina en la fila 'fila' y columna 'columna' es atacada por otras reinas\n",
    "    for i in range(fila):\n",
    "        if tablero[i] == columna or \\\n",
    "           tablero[i] - i == columna - fila or \\\n",
    "           tablero[i] + i == columna + fila:\n",
    "            return False\n",
    "    return True\n",
    "\n",
    "def encontrar_solucion(tablero, fila, fronteras_alcanzadas, movimientos_realizados):\n",
    "    n = len(tablero)\n",
    "    if fila == n:\n",
    "        # Se ha encontrado una solución\n",
    "        return tablero, fronteras_alcanzadas, movimientos_realizados\n",
    "    else:\n",
    "        for columna in range(n):\n",
    "            movimientos_realizados += 1\n",
    "            if posicion_valida(tablero, fila, columna):\n",
    "                tablero[fila] = columna\n",
    "                fronteras_alcanzadas += 1\n",
    "                # if fila < n - 1:\n",
    "                #     print(f\"Límite de la reina {fila + 2} encontrado en fila {fila + 2}\\n\")\n",
    "                # Recursivamente intentar colocar la siguiente reina en la siguiente fila\n",
    "                solucion_encontrada, fronteras_alcanzadas, movimientos_realizados = encontrar_solucion(tablero, fila + 1, fronteras_alcanzadas, movimientos_realizados)\n",
    "                if solucion_encontrada is not None:\n",
    "                    return solucion_encontrada, fronteras_alcanzadas, movimientos_realizados\n",
    "        # Si ninguna posición en esta fila funciona, retroceder y probar otra posición en la fila anterior\n",
    "        return None, fronteras_alcanzadas, movimientos_realizados\n",
    "\n",
    "def imprimir_tablero(tablero):\n",
    "    n = len(tablero)\n",
    "    for fila in range(n):\n",
    "        for columna in range(n):\n",
    "            if tablero[fila] == columna:\n",
    "                print(\"0\", end=\" \")\n",
    "            else:\n",
    "                print(\"_\", end=\" \")\n",
    "        print()\n",
    "\n",
    "def resolver_problema():\n",
    "    # Estado inicial: tablero vacío\n",
    "    tablero = [-1] * 8\n",
    "    fronteras_alcanzadas = 0\n",
    "    movimientos_realizados = 0\n",
    "    # Comenzar desde la primera fila\n",
    "    solucion, fronteras_alcanzadas, movimientos_realizados = encontrar_solucion(tablero, 0, fronteras_alcanzadas, movimientos_realizados)\n",
    "    if solucion is not None:\n",
    "        print(\"\\nSolución encontrada:\")\n",
    "        imprimir_tablero(solucion)\n",
    "        print(f\"\\nTotal de fronteras alcanzadas: {fronteras_alcanzadas}\")\n",
    "        print(f\"Total de movimientos realizados: {movimientos_realizados}\")\n",
    "    else:\n",
    "        print(\"No se encontró solución.\")\n",
    "\n"
   ]
  },
  {
   "cell_type": "code",
   "execution_count": 3,
   "id": "eab3a887-1814-4d06-ba32-f12c5bb9b67b",
   "metadata": {},
   "outputs": [
    {
     "name": "stdout",
     "output_type": "stream",
     "text": [
      "\n",
      "Solución encontrada:\n",
      "0 _ _ _ _ _ _ _ \n",
      "_ _ _ _ 0 _ _ _ \n",
      "_ _ _ _ _ _ _ 0 \n",
      "_ _ _ _ _ 0 _ _ \n",
      "_ _ 0 _ _ _ _ _ \n",
      "_ _ _ _ _ _ 0 _ \n",
      "_ 0 _ _ _ _ _ _ \n",
      "_ _ _ 0 _ _ _ _ \n",
      "\n",
      "Total de fronteras alcanzadas: 113\n",
      "Total de movimientos realizados: 876\n"
     ]
    }
   ],
   "source": [
    "resolver_problema()"
   ]
  }
 ],
 "metadata": {
  "kernelspec": {
   "display_name": "Python 3 (ipykernel)",
   "language": "python",
   "name": "python3"
  },
  "language_info": {
   "codemirror_mode": {
    "name": "ipython",
    "version": 3
   },
   "file_extension": ".py",
   "mimetype": "text/x-python",
   "name": "python",
   "nbconvert_exporter": "python",
   "pygments_lexer": "ipython3",
   "version": "3.9.16"
  }
 },
 "nbformat": 4,
 "nbformat_minor": 5
}
