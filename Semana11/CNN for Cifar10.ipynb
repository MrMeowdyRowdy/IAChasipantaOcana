{
 "cells": [
  {
   "cell_type": "code",
   "execution_count": 1,
   "id": "08ff86e3-07e8-433a-925f-e729a88e9e77",
   "metadata": {},
   "outputs": [
    {
     "name": "stdout",
     "output_type": "stream",
     "text": [
      "cuda:0\n"
     ]
    }
   ],
   "source": [
    "import torch\n",
    "import torchvision\n",
    "import torchvision.transforms as transforms\n",
    "device = torch.device('cuda:0' if torch.cuda.is_available() else 'cpu')\n",
    "\n",
    "# Assuming that we are on a CUDA machine, this should print a CUDA device:\n",
    "\n",
    "print(device)"
   ]
  },
  {
   "cell_type": "code",
   "execution_count": 2,
   "id": "53bd50c1-96c6-4871-a4a7-cc0cea187be6",
   "metadata": {},
   "outputs": [
    {
     "name": "stdout",
     "output_type": "stream",
     "text": [
      "Files already downloaded and verified\n",
      "Files already downloaded and verified\n"
     ]
    }
   ],
   "source": [
    "transform = transforms.Compose(\n",
    "    [transforms.ToTensor(),\n",
    "     transforms.Normalize((0.5, 0.5, 0.5), (0.5, 0.5, 0.5))])\n",
    "\n",
    "batch_size = 4\n",
    "\n",
    "trainset = torchvision.datasets.CIFAR10(root='./data', train=True,\n",
    "                                        download=True, transform=transform)\n",
    "trainloader = torch.utils.data.DataLoader(trainset, batch_size=batch_size,\n",
    "                                          shuffle=True, num_workers=2)\n",
    "\n",
    "testset = torchvision.datasets.CIFAR10(root='./data', train=False,\n",
    "                                       download=True, transform=transform)\n",
    "testloader = torch.utils.data.DataLoader(testset, batch_size=batch_size,\n",
    "                                         shuffle=False, num_workers=2)\n",
    "\n",
    "classes = ('plane', 'car', 'bird', 'cat',\n",
    "           'deer', 'dog', 'frog', 'horse', 'ship', 'truck')"
   ]
  },
  {
   "cell_type": "code",
   "execution_count": 4,
   "id": "4edc21b6-8edd-4be2-9e70-0879aabc2693",
   "metadata": {},
   "outputs": [
    {
     "data": {
      "text/plain": [
       "Net(\n",
       "  (conv1): Conv2d(3, 6, kernel_size=(5, 5), stride=(1, 1))\n",
       "  (pool): MaxPool2d(kernel_size=2, stride=2, padding=0, dilation=1, ceil_mode=False)\n",
       "  (conv2): Conv2d(6, 16, kernel_size=(5, 5), stride=(1, 1))\n",
       "  (fc1): Linear(in_features=400, out_features=120, bias=True)\n",
       "  (fc2): Linear(in_features=120, out_features=84, bias=True)\n",
       "  (fc3): Linear(in_features=84, out_features=10, bias=True)\n",
       ")"
      ]
     },
     "execution_count": 4,
     "metadata": {},
     "output_type": "execute_result"
    }
   ],
   "source": [
    "import torch.nn as nn\n",
    "import torch.nn.functional as F\n",
    "\n",
    "\n",
    "class Net(nn.Module):\n",
    "    def __init__(self):\n",
    "        super().__init__()\n",
    "        self.conv1 = nn.Conv2d(3, 6, 5)\n",
    "        self.pool = nn.MaxPool2d(2, 2)\n",
    "        self.conv2 = nn.Conv2d(6, 16, 5)\n",
    "        self.fc1 = nn.Linear(16 * 5 * 5, 120)\n",
    "        self.fc2 = nn.Linear(120, 84)\n",
    "        self.fc3 = nn.Linear(84, 10)\n",
    "\n",
    "    def forward(self, x):\n",
    "        x = self.pool(F.relu(self.conv1(x)))\n",
    "        x = self.pool(F.relu(self.conv2(x)))\n",
    "        x = torch.flatten(x, 1)\n",
    "        x = F.relu(self.fc1(x))\n",
    "        x = F.relu(self.fc2(x))\n",
    "        x = self.fc3(x)\n",
    "        return x\n",
    "\n",
    "\n",
    "net = Net()\n",
    "net.to(device)"
   ]
  },
  {
   "cell_type": "code",
   "execution_count": 5,
   "id": "90359d0c-c5e8-47a4-8d02-a02952f51ff5",
   "metadata": {},
   "outputs": [],
   "source": [
    "import torch.optim as optim\n",
    "\n",
    "criterion = nn.CrossEntropyLoss()\n",
    "optimizer = optim.SGD(net.parameters(), lr=0.001, momentum=0.9)"
   ]
  },
  {
   "cell_type": "code",
   "execution_count": 6,
   "id": "90e015f8-e903-4938-bb5f-08bf08414bbe",
   "metadata": {},
   "outputs": [
    {
     "name": "stdout",
     "output_type": "stream",
     "text": [
      "[1,  2000] loss: 2.198\n",
      "[1,  4000] loss: 1.875\n",
      "[1,  6000] loss: 1.687\n",
      "[1,  8000] loss: 1.584\n",
      "[1, 10000] loss: 1.537\n",
      "[1, 12000] loss: 1.493\n",
      "[2,  2000] loss: 1.410\n",
      "[2,  4000] loss: 1.394\n",
      "[2,  6000] loss: 1.383\n",
      "[2,  8000] loss: 1.339\n",
      "[2, 10000] loss: 1.331\n",
      "[2, 12000] loss: 1.306\n",
      "[3,  2000] loss: 1.243\n",
      "[3,  4000] loss: 1.254\n",
      "[3,  6000] loss: 1.236\n",
      "[3,  8000] loss: 1.219\n",
      "[3, 10000] loss: 1.231\n",
      "[3, 12000] loss: 1.221\n",
      "[4,  2000] loss: 1.133\n",
      "[4,  4000] loss: 1.151\n",
      "[4,  6000] loss: 1.152\n",
      "[4,  8000] loss: 1.158\n",
      "[4, 10000] loss: 1.145\n",
      "[4, 12000] loss: 1.157\n",
      "[5,  2000] loss: 1.073\n",
      "[5,  4000] loss: 1.088\n",
      "[5,  6000] loss: 1.083\n",
      "[5,  8000] loss: 1.086\n",
      "[5, 10000] loss: 1.078\n",
      "[5, 12000] loss: 1.088\n",
      "[6,  2000] loss: 1.000\n",
      "[6,  4000] loss: 1.020\n",
      "[6,  6000] loss: 1.035\n",
      "[6,  8000] loss: 1.027\n",
      "[6, 10000] loss: 1.041\n",
      "[6, 12000] loss: 1.035\n",
      "[7,  2000] loss: 0.949\n",
      "[7,  4000] loss: 0.953\n",
      "[7,  6000] loss: 0.984\n",
      "[7,  8000] loss: 0.996\n",
      "[7, 10000] loss: 1.000\n",
      "[7, 12000] loss: 1.000\n",
      "[8,  2000] loss: 0.911\n",
      "[8,  4000] loss: 0.934\n",
      "[8,  6000] loss: 0.958\n",
      "[8,  8000] loss: 0.965\n",
      "[8, 10000] loss: 0.957\n",
      "[8, 12000] loss: 0.961\n",
      "[9,  2000] loss: 0.872\n",
      "[9,  4000] loss: 0.893\n",
      "[9,  6000] loss: 0.912\n",
      "[9,  8000] loss: 0.918\n",
      "[9, 10000] loss: 0.917\n",
      "[9, 12000] loss: 0.919\n",
      "[10,  2000] loss: 0.816\n",
      "[10,  4000] loss: 0.860\n",
      "[10,  6000] loss: 0.878\n",
      "[10,  8000] loss: 0.869\n",
      "[10, 10000] loss: 0.898\n",
      "[10, 12000] loss: 0.896\n",
      "[11,  2000] loss: 0.810\n",
      "[11,  4000] loss: 0.828\n",
      "[11,  6000] loss: 0.865\n",
      "[11,  8000] loss: 0.834\n",
      "[11, 10000] loss: 0.857\n",
      "[11, 12000] loss: 0.901\n",
      "[12,  2000] loss: 0.774\n",
      "[12,  4000] loss: 0.813\n",
      "[12,  6000] loss: 0.816\n",
      "[12,  8000] loss: 0.821\n",
      "[12, 10000] loss: 0.852\n",
      "[12, 12000] loss: 0.871\n",
      "[13,  2000] loss: 0.740\n",
      "[13,  4000] loss: 0.786\n",
      "[13,  6000] loss: 0.798\n",
      "[13,  8000] loss: 0.818\n",
      "[13, 10000] loss: 0.828\n",
      "[13, 12000] loss: 0.844\n",
      "[14,  2000] loss: 0.728\n",
      "[14,  4000] loss: 0.774\n",
      "[14,  6000] loss: 0.776\n",
      "[14,  8000] loss: 0.794\n",
      "[14, 10000] loss: 0.819\n",
      "[14, 12000] loss: 0.822\n",
      "[15,  2000] loss: 0.709\n",
      "[15,  4000] loss: 0.737\n",
      "[15,  6000] loss: 0.762\n",
      "[15,  8000] loss: 0.767\n",
      "[15, 10000] loss: 0.796\n",
      "[15, 12000] loss: 0.813\n",
      "[16,  2000] loss: 0.670\n",
      "[16,  4000] loss: 0.738\n",
      "[16,  6000] loss: 0.743\n",
      "[16,  8000] loss: 0.760\n",
      "[16, 10000] loss: 0.793\n",
      "[16, 12000] loss: 0.783\n",
      "[17,  2000] loss: 0.662\n",
      "[17,  4000] loss: 0.731\n",
      "[17,  6000] loss: 0.727\n",
      "[17,  8000] loss: 0.754\n",
      "[17, 10000] loss: 0.774\n",
      "[17, 12000] loss: 0.784\n",
      "[18,  2000] loss: 0.685\n",
      "[18,  4000] loss: 0.698\n",
      "[18,  6000] loss: 0.729\n",
      "[18,  8000] loss: 0.732\n",
      "[18, 10000] loss: 0.753\n",
      "[18, 12000] loss: 0.770\n",
      "[19,  2000] loss: 0.657\n",
      "[19,  4000] loss: 0.680\n",
      "[19,  6000] loss: 0.720\n",
      "[19,  8000] loss: 0.748\n",
      "[19, 10000] loss: 0.738\n",
      "[19, 12000] loss: 0.739\n",
      "[20,  2000] loss: 0.639\n",
      "[20,  4000] loss: 0.697\n",
      "[20,  6000] loss: 0.703\n",
      "[20,  8000] loss: 0.722\n",
      "[20, 10000] loss: 0.723\n",
      "[20, 12000] loss: 0.743\n",
      "[21,  2000] loss: 0.629\n",
      "[21,  4000] loss: 0.655\n",
      "[21,  6000] loss: 0.666\n",
      "[21,  8000] loss: 0.712\n",
      "[21, 10000] loss: 0.756\n",
      "[21, 12000] loss: 0.743\n",
      "[22,  2000] loss: 0.628\n",
      "[22,  4000] loss: 0.673\n",
      "[22,  6000] loss: 0.661\n",
      "[22,  8000] loss: 0.706\n",
      "[22, 10000] loss: 0.705\n",
      "[22, 12000] loss: 0.744\n",
      "[23,  2000] loss: 0.617\n",
      "[23,  4000] loss: 0.617\n",
      "[23,  6000] loss: 0.656\n",
      "[23,  8000] loss: 0.717\n",
      "[23, 10000] loss: 0.711\n",
      "[23, 12000] loss: 0.722\n",
      "[24,  2000] loss: 0.628\n",
      "[24,  4000] loss: 0.640\n",
      "[24,  6000] loss: 0.691\n",
      "[24,  8000] loss: 0.678\n",
      "[24, 10000] loss: 0.720\n",
      "[24, 12000] loss: 0.724\n",
      "[25,  2000] loss: 0.598\n",
      "[25,  4000] loss: 0.628\n",
      "[25,  6000] loss: 0.661\n",
      "[25,  8000] loss: 0.676\n",
      "[25, 10000] loss: 0.698\n",
      "[25, 12000] loss: 0.707\n",
      "[26,  2000] loss: 0.588\n",
      "[26,  4000] loss: 0.648\n",
      "[26,  6000] loss: 0.668\n",
      "[26,  8000] loss: 0.677\n",
      "[26, 10000] loss: 0.694\n",
      "[26, 12000] loss: 0.714\n",
      "[27,  2000] loss: 0.580\n",
      "[27,  4000] loss: 0.627\n",
      "[27,  6000] loss: 0.668\n",
      "[27,  8000] loss: 0.686\n",
      "[27, 10000] loss: 0.711\n",
      "[27, 12000] loss: 0.716\n",
      "[28,  2000] loss: 0.587\n",
      "[28,  4000] loss: 0.631\n",
      "[28,  6000] loss: 0.640\n",
      "[28,  8000] loss: 0.658\n",
      "[28, 10000] loss: 0.695\n",
      "[28, 12000] loss: 0.709\n",
      "[29,  2000] loss: 0.602\n",
      "[29,  4000] loss: 0.611\n",
      "[29,  6000] loss: 0.667\n",
      "[29,  8000] loss: 0.681\n",
      "[29, 10000] loss: 0.679\n",
      "[29, 12000] loss: 0.702\n",
      "[30,  2000] loss: 0.585\n",
      "[30,  4000] loss: 0.630\n",
      "[30,  6000] loss: 0.664\n",
      "[30,  8000] loss: 0.655\n",
      "[30, 10000] loss: 0.695\n",
      "[30, 12000] loss: 0.718\n",
      "[31,  2000] loss: 0.576\n",
      "[31,  4000] loss: 0.620\n",
      "[31,  6000] loss: 0.628\n",
      "[31,  8000] loss: 0.662\n",
      "[31, 10000] loss: 0.684\n",
      "[31, 12000] loss: 0.709\n",
      "[32,  2000] loss: 0.586\n",
      "[32,  4000] loss: 0.601\n",
      "[32,  6000] loss: 0.652\n",
      "[32,  8000] loss: 0.654\n",
      "[32, 10000] loss: 0.692\n",
      "[32, 12000] loss: 0.651\n",
      "[33,  2000] loss: 0.593\n",
      "[33,  4000] loss: 0.604\n",
      "[33,  6000] loss: 0.641\n",
      "[33,  8000] loss: 0.659\n",
      "[33, 10000] loss: 0.685\n",
      "[33, 12000] loss: 0.694\n",
      "[34,  2000] loss: 0.568\n",
      "[34,  4000] loss: 0.617\n",
      "[34,  6000] loss: 0.617\n",
      "[34,  8000] loss: 0.657\n",
      "[34, 10000] loss: 0.654\n",
      "[34, 12000] loss: 0.712\n",
      "[35,  2000] loss: 0.590\n",
      "[35,  4000] loss: 0.610\n",
      "[35,  6000] loss: 0.667\n",
      "[35,  8000] loss: 0.652\n",
      "[35, 10000] loss: 0.668\n",
      "[35, 12000] loss: 0.688\n",
      "Finished Training\n"
     ]
    }
   ],
   "source": [
    "for epoch in range(35):  # loop over the dataset multiple times\n",
    "\n",
    "    running_loss = 0.0\n",
    "    for i, data in enumerate(trainloader, 0):\n",
    "        # get the inputs; data is a list of [inputs, labels]\n",
    "        inputs, labels = data[0].to(device), data[1].to(device)\n",
    "\n",
    "        # zero the parameter gradients\n",
    "        optimizer.zero_grad()\n",
    "\n",
    "        # forward + backward + optimize\n",
    "        outputs = net(inputs)\n",
    "        loss = criterion(outputs, labels)\n",
    "        loss.backward()\n",
    "        optimizer.step()\n",
    "\n",
    "        # print statistics\n",
    "        running_loss += loss.item()\n",
    "        if i % 2000 == 1999:    # print every 2000 mini-batches\n",
    "            print(f'[{epoch + 1}, {i + 1:5d}] loss: {running_loss / 2000:.3f}')\n",
    "            running_loss = 0.0\n",
    "\n",
    "print('Finished Training')"
   ]
  },
  {
   "cell_type": "code",
   "execution_count": 7,
   "id": "eb6d2af5-045b-42f4-9cc8-d2ccc86adaa2",
   "metadata": {},
   "outputs": [],
   "source": [
    "PATH = './cifar_net.pth'\n",
    "torch.save(net.state_dict(), PATH)"
   ]
  },
  {
   "cell_type": "code",
   "execution_count": 8,
   "id": "2e2c46f5-d288-4fd9-ba78-4b3591e6f19b",
   "metadata": {},
   "outputs": [
    {
     "data": {
      "image/png": "[encoded data removed]",
      "text/plain": [
       "<Figure size 640x480 with 1 Axes>"
      ]
     },
     "metadata": {},
     "output_type": "display_data"
    },
    {
     "name": "stdout",
     "output_type": "stream",
     "text": [
      "GroundTruth:  cat   ship  ship  plane\n"
     ]
    }
   ],
   "source": [
    "dataiter = iter(testloader)\n",
    "images, labels = next(dataiter)\n",
    "\n",
    "# print images\n",
    "imshow(torchvision.utils.make_grid(images))\n",
    "print('GroundTruth: ', ' '.join(f'{classes[labels[j]]:5s}' for j in range(4)))"
   ]
  },
  {
   "cell_type": "code",
   "execution_count": 9,
   "id": "bd456df1-27b9-4647-8a5f-3b1a39e22fce",
   "metadata": {},
   "outputs": [
    {
     "name": "stdout",
     "output_type": "stream",
     "text": [
      "Predicted:  ship  frog  horse truck\n"
     ]
    }
   ],
   "source": [
    "_, predicted = torch.max(outputs, 1)\n",
    "\n",
    "print('Predicted: ', ' '.join(f'{classes[predicted[j]]:5s}'\n",
    "                              for j in range(4)))"
   ]
  },
  {
   "cell_type": "code",
   "execution_count": 13,
   "id": "bf1f1039-f5d3-41c2-8aa6-9fdd3170957a",
   "metadata": {},
   "outputs": [
    {
     "name": "stdout",
     "output_type": "stream",
     "text": [
      "Accuracy of the network on the 10000 test images: 58 %\n"
     ]
    }
   ],
   "source": [
    "correct = 0\n",
    "total = 0\n",
    "# since we're not training, we don't need to calculate the gradients for our outputs\n",
    "with torch.no_grad():\n",
    "    for data in testloader:\n",
    "        images, labels = data[0].to(device), data[1].to(device)\n",
    "        # calculate outputs by running images through the network\n",
    "        outputs = net(images)\n",
    "        # the class with the highest energy is what we choose as prediction\n",
    "        _, predicted = torch.max(outputs.data, 1)\n",
    "        total += labels.size(0)\n",
    "        correct += (predicted == labels).sum().item()\n",
    "\n",
    "print(f'Accuracy of the network on the 10000 test images: {100 * correct // total} %')"
   ]
  },
  {
   "cell_type": "code",
   "execution_count": 11,
   "id": "4d7c8658-2a00-486e-b106-fb45ab3ee296",
   "metadata": {},
   "outputs": [
    {
     "name": "stdout",
     "output_type": "stream",
     "text": [
      "Accuracy for class: plane is 64.8 %\n",
      "Accuracy for class: car   is 72.2 %\n",
      "Accuracy for class: bird  is 43.5 %\n",
      "Accuracy for class: cat   is 43.4 %\n",
      "Accuracy for class: deer  is 51.9 %\n",
      "Accuracy for class: dog   is 47.8 %\n",
      "Accuracy for class: frog  is 68.9 %\n",
      "Accuracy for class: horse is 58.5 %\n",
      "Accuracy for class: ship  is 72.9 %\n",
      "Accuracy for class: truck is 64.2 %\n"
     ]
    }
   ],
   "source": [
    "# prepare to count predictions for each class\n",
    "correct_pred = {classname: 0 for classname in classes}\n",
    "total_pred = {classname: 0 for classname in classes}\n",
    "\n",
    "# again no gradients needed\n",
    "with torch.no_grad():\n",
    "    for data in testloader:\n",
    "        images, labels = data[0].to(device), data[1].to(device)\n",
    "        outputs = net(images)\n",
    "        _, predictions = torch.max(outputs, 1)\n",
    "        # collect the correct predictions for each class\n",
    "        for label, prediction in zip(labels, predictions):\n",
    "            if label == prediction:\n",
    "                correct_pred[classes[label]] += 1\n",
    "            total_pred[classes[label]] += 1\n",
    "\n",
    "\n",
    "# print accuracy for each class\n",
    "for classname, correct_count in correct_pred.items():\n",
    "    accuracy = 100 * float(correct_count) / total_pred[classname]\n",
    "    print(f'Accuracy for class: {classname:5s} is {accuracy:.1f} %')"
   ]
  },
  {
   "cell_type": "markdown",
   "id": "d7aeb2fa-b24c-4285-8d9a-1202834f4e4c",
   "metadata": {},
   "source": [
    "## "
   ]
  },
  {
   "cell_type": "code",
   "execution_count": null,
   "id": "d7a2962b-da54-42d7-9c65-01247d3dab81",
   "metadata": {},
   "outputs": [],
   "source": []
  }
 ],
 "metadata": {
  "kernelspec": {
   "display_name": "Python 3 (ipykernel)",
   "language": "python",
   "name": "python3"
  },
  "language_info": {
   "codemirror_mode": {
    "name": "ipython",
    "version": 3
   },
   "file_extension": ".py",
   "mimetype": "text/x-python",
   "name": "python",
   "nbconvert_exporter": "python",
   "pygments_lexer": "ipython3",
   "version": "3.10.9"
  }
 },
 "nbformat": 4,
 "nbformat_minor": 5
}
